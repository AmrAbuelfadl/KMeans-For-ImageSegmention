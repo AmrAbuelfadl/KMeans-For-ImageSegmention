{
 "cells": [
  {
   "cell_type": "code",
   "execution_count": 208,
   "metadata": {},
   "outputs": [],
   "source": [
    "import numpy as np\n",
    "from PIL import Image\n",
    "import matplotlib.pyplot as plt\n",
    "import pandas as pd\n",
    "from sklearn.metrics import confusion_matrix\n",
    "import seaborn as sn\n",
    "from scipy.io import loadmat"
   ]
  },
  {
   "cell_type": "code",
   "execution_count": 201,
   "metadata": {},
   "outputs": [],
   "source": [
    "# Question 1\n",
    "# Creating Synthetic images for evaluation of the segmentation process\n",
    "im1 = np.zeros((512,512), dtype='uint8')\n",
    "im2 = np.zeros((512,512), dtype='uint8')\n",
    "im3 = np.zeros((512,512), dtype='uint8')\n",
    "im4 = np.zeros((512,512), dtype='uint8')\n",
    "im5 = np.zeros((512,512), dtype='uint8')\n",
    "im6 = np.zeros((512,512), dtype='uint8')\n",
    "im7 = np.zeros((512,512), dtype='uint8')\n",
    "im8 = np.zeros((512,512), dtype='uint8')\n",
    "membership_arr1 =  np.zeros([512,512])\n",
    "membership_arr2 =  np.zeros([512,512])\n",
    "for i in range(512):\n",
    "    for j in range(512):\n",
    "        if i<256:\n",
    "            if j<256:\n",
    "                im1[i][j]=np.random.normal(50, 0, 1)\n",
    "                im2[i][j]=np.random.normal(50, 10, 1)\n",
    "                membership_arr1[i][j]=0\n",
    "            else:\n",
    "                im1[i][j]=np.random.normal(150, 0, 1)\n",
    "                im2[i][j]=np.random.normal(150, 10, 1)\n",
    "                membership_arr1[i][j]=2\n",
    "        else:\n",
    "            if j<256:\n",
    "                im1[i][j]=np.random.normal(100, 0, 1)\n",
    "                im2[i][j]=np.random.normal(100, 10, 1)\n",
    "                membership_arr1[i][j]=1\n",
    "            else:\n",
    "                im1[i][j]=np.random.normal(200, 0, 1)\n",
    "                im2[i][j]=np.random.normal(200, 10, 1)\n",
    "                membership_arr1[i][j]=3\n",
    "\n",
    "for i in range(512):\n",
    "    for j in range(512):\n",
    "        if i<256:\n",
    "            if j>280 and j<300:\n",
    "                im5[i][j]=np.random.normal(150, 0, 1)\n",
    "                im8[i][j]=np.random.normal(150, 20, 1)\n",
    "                membership_arr2[i][j] = 2\n",
    "            elif j>400 and j<480:\n",
    "                im5[i][j]=np.random.normal(200, 0, 1)\n",
    "                im8[i][j]=np.random.normal(200, 20, 1)\n",
    "                membership_arr2[i][j] = 3\n",
    "            else:\n",
    "                im5[i][j]=np.random.normal(50, 0, 1)\n",
    "                im8[i][j]=np.random.normal(50, 20, 1)\n",
    "                membership_arr2[i][j] = 0\n",
    "        else:\n",
    "            if j>280 and j<300:\n",
    "                im5[i][j]=np.random.normal(150, 0, 1)\n",
    "                im8[i][j]=np.random.normal(150, 20, 1)\n",
    "                membership_arr2[i][j] = 2\n",
    "            elif j>400 and j<480:\n",
    "                im5[i][j]=np.random.normal(200, 0, 1)\n",
    "                im8[i][j]=np.random.normal(200, 20, 1)\n",
    "                membership_arr2[i][j] = 3\n",
    "            else:\n",
    "                im5[i][j]=np.random.normal(100, 0, 1)\n",
    "                im8[i][j]=np.random.normal(100, 20, 1)\n",
    "                membership_arr2[i][j] = 1\n",
    "\n",
    "Image.fromarray(im8).show()\n",
    "\n",
    "# plt.imsave(\"/Users/amrabuelfadl/Desktop/image1.jpg\", im1, cmap = 'gray')\n",
    "\n",
    "# plt.imsave(\"/Users/amrabuelfadl/Desktop/image2.jpg\", im2, cmap = 'gray')\n",
    "\n",
    "# plt.imsave(\"/Users/amrabuelfadl/Desktop/image5.jpg\",im5, cmap = 'gray')\n",
    "\n",
    "# plt.imsave(\"/Users/amrabuelfadl/Desktop/image8.jpg\",im8, cmap = 'gray')"
   ]
  },
  {
   "cell_type": "code",
   "execution_count": 164,
   "metadata": {},
   "outputs": [],
   "source": [
    "def euclideanDistND(pixel,center):\n",
    "    sum_square = 0\n",
    "    for i in range (0,len(center)):\n",
    "        sum_square += ((pixel[i] - center[i]) ** 2)\n",
    "    return np.sqrt(sum_square)"
   ]
  },
  {
   "cell_type": "code",
   "execution_count": 165,
   "metadata": {},
   "outputs": [],
   "source": [
    "def euclideanDist1D(pixel,center):\n",
    "    sum_square = ((pixel - center) ** 2)\n",
    "    return np.sqrt(sum_square)"
   ]
  },
  {
   "cell_type": "code",
   "execution_count": 166,
   "metadata": {},
   "outputs": [],
   "source": [
    "# Question 2\n",
    "def kmeans(img,dim,k,c):\n",
    "    img_copy = np.array(img)\n",
    "    img_result = img.copy()\n",
    "    arr_result =  np.zeros([k,dim])\n",
    "    arr_result_counter =  np.zeros([k,dim])\n",
    "    best_center = -1\n",
    "    min_dist = np.inf\n",
    "    current_dis = 0\n",
    "    membership = np.array(img)\n",
    "    membershipOld = np.array(img)\n",
    "    converged = False\n",
    "    counter = 0\n",
    "#     print(arr_result)\n",
    "    while not converged:\n",
    "        membershipOld = membership\n",
    "        for i in range (0,img_copy.shape[0]): # creating the s matrix\n",
    "            for j in range (0,img_copy.shape[1]):\n",
    "                for l in range (0,len(c)):\n",
    "                    #print(img_copy[i][j][0])\n",
    "                    #current_dis = np.linalg.norm(img_copy[i][j]-c[l])\n",
    "                    if dim == 1:\n",
    "                        current_dis = euclideanDist1D(img_copy[i][j], c[l])\n",
    "                    else:\n",
    "                        current_dis = euclideanDistND(img_copy[i][j], c[l])\n",
    "                    if(current_dis<min_dist):\n",
    "                        min_dist = current_dis\n",
    "                        best_center = l\n",
    "                        membership[i][j] = l\n",
    "                min_dist = np.inf\n",
    "                current_dis = 0\n",
    "                arr_result[best_center]+= img_copy[i][j]\n",
    "                arr_result_counter[best_center]+= 1\n",
    "                \n",
    "        if dim == 1:\n",
    "            for k in range (0,len(c)):\n",
    "                    if arr_result_counter[k] != 0:\n",
    "                        c[k] = arr_result[k]//arr_result_counter[k]\n",
    "        else:\n",
    "            for k in range (0,len(c)):\n",
    "                  c[k] = np.divide(arr_result[k], arr_result_counter[k])\n",
    "                       \n",
    "        if (counter > 0) & ((membershipOld == membership).all()):\n",
    "            converged = True\n",
    "        counter += 1\n",
    "        arr_result.fill(0)\n",
    "        arr_result_counter.fill(0)\n",
    "    return membership"
   ]
  },
  {
   "cell_type": "code",
   "execution_count": 202,
   "metadata": {},
   "outputs": [
    {
     "data": {
      "image/png": "[encoded data removed]",
      "text/plain": [
       "<Figure size 432x288 with 1 Axes>"
      ]
     },
     "metadata": {},
     "output_type": "display_data"
    }
   ],
   "source": [
    "# ّImage 1 test Group D\n",
    "image = Image.open(\"image1.jpg\")\n",
    "\n",
    "d_confusion_matrix=confusion_matrix(kmeans(image,1,4,[30, 70, 130, 200]).flatten(), membership_arr1.flatten())\n",
    "\n",
    "df_cm = pd.DataFrame(d_confusion_matrix, [50,100,150,200], [50,100,150,200])\n",
    "\n",
    "sn.set(font_scale=1.4) # for label size\n",
    "\n",
    "ax=sn.heatmap(df_cm,xticklabels=True, yticklabels=True, annot=True, cbar=False,annot_kws={\"size\": 16}) # font size\n",
    "\n",
    "bottom, top = ax.get_ylim()\n",
    "\n",
    "ax.set_ylim(bottom + 0.5, top - 0.5)\n",
    "\n",
    "plt.show()"
   ]
  },
  {
   "cell_type": "code",
   "execution_count": 203,
   "metadata": {},
   "outputs": [
    {
     "data": {
      "image/png": "[encoded data removed]",
      "text/plain": [
       "<Figure size 432x288 with 1 Axes>"
      ]
     },
     "metadata": {},
     "output_type": "display_data"
    }
   ],
   "source": [
    "# ّImage 2 test Group D\n",
    "\n",
    "image = Image.open(\"image2.jpg\")\n",
    "\n",
    "d_confusion_matrix=confusion_matrix(kmeans(image,1,4,[30, 70, 130, 200]).flatten(), membership_arr1.flatten())\n",
    "\n",
    "df_cm = pd.DataFrame(d_confusion_matrix, [50,100,150,200], [50,100,150,200])\n",
    "\n",
    "sn.set(font_scale=1.4) # for label size\n",
    "\n",
    "ax=sn.heatmap(df_cm,xticklabels=True, yticklabels=True, annot=True, cbar=False,annot_kws={\"size\": 16}) # font size\n",
    "\n",
    "bottom, top = ax.get_ylim()\n",
    "\n",
    "ax.set_ylim(bottom + 0.5, top - 0.5)\n",
    "\n",
    "plt.show()"
   ]
  },
  {
   "cell_type": "code",
   "execution_count": 204,
   "metadata": {},
   "outputs": [
    {
     "data": {
      "image/png": "[encoded data removed]",
      "text/plain": [
       "<Figure size 432x288 with 1 Axes>"
      ]
     },
     "metadata": {},
     "output_type": "display_data"
    }
   ],
   "source": [
    "# ّImage 5 test Group D\n",
    "\n",
    "image = Image.open(\"image5.jpg\")\n",
    "\n",
    "d_confusion_matrix=confusion_matrix(kmeans(image,1,4,[30, 70, 130, 200]).flatten(), membership_arr1.flatten())\n",
    "\n",
    "df_cm = pd.DataFrame(d_confusion_matrix, [50,100,150,200], [50,100,150,200])\n",
    "\n",
    "sn.set(font_scale=1.4) # for label size\n",
    "\n",
    "ax=sn.heatmap(df_cm,xticklabels=True, yticklabels=True, annot=True, cbar=False,annot_kws={\"size\": 16}) # font size\n",
    "\n",
    "bottom, top = ax.get_ylim()\n",
    "\n",
    "ax.set_ylim(bottom + 0.5, top - 0.5)\n",
    "\n",
    "plt.show()"
   ]
  },
  {
   "cell_type": "code",
   "execution_count": 205,
   "metadata": {},
   "outputs": [
    {
     "data": {
      "image/png": "[encoded data removed]",
      "text/plain": [
       "<Figure size 432x288 with 1 Axes>"
      ]
     },
     "metadata": {},
     "output_type": "display_data"
    }
   ],
   "source": [
    "# ّImage 8 test Group D\n",
    "\n",
    "image = Image.open(\"image8.jpg\")\n",
    "\n",
    "d_confusion_matrix=confusion_matrix(kmeans(image,1,4,[30, 70, 130, 200]).flatten(), membership_arr1.flatten())\n",
    "\n",
    "df_cm = pd.DataFrame(d_confusion_matrix, [50,100,150,200], [50,100,150,200])\n",
    "\n",
    "sn.set(font_scale=1.4) # for label size\n",
    "\n",
    "ax=sn.heatmap(df_cm,xticklabels=True, yticklabels=True, annot=True, cbar=False,annot_kws={\"size\": 16}) # font size\n",
    "\n",
    "bottom, top = ax.get_ylim()\n",
    "\n",
    "ax.set_ylim(bottom + 0.5, top - 0.5)\n",
    "\n",
    "plt.show()"
   ]
  },
  {
   "cell_type": "code",
   "execution_count": 206,
   "metadata": {},
   "outputs": [
    {
     "data": {
      "text/plain": [
       "array([[2, 2, 2, ..., 2, 2, 2],\n",
       "       [2, 2, 2, ..., 2, 2, 2],\n",
       "       [2, 2, 2, ..., 2, 2, 2],\n",
       "       ...,\n",
       "       [1, 1, 1, ..., 1, 1, 1],\n",
       "       [0, 1, 1, ..., 1, 1, 1],\n",
       "       [0, 0, 0, ..., 1, 1, 1]], dtype=uint8)"
      ]
     },
     "execution_count": 206,
     "metadata": {},
     "output_type": "execute_result"
    }
   ],
   "source": [
    "# GrayLevel image Group D\n",
    "\n",
    "image = Image.open(\"3096 (1).jpg\")\n",
    "kmeans(image,1,4,[30, 70, 130, 200])"
   ]
  },
  {
   "cell_type": "code",
   "execution_count": 207,
   "metadata": {},
   "outputs": [
    {
     "data": {
      "text/plain": [
       "array([[[3, 3, 3],\n",
       "        [3, 3, 3],\n",
       "        [3, 3, 3],\n",
       "        ...,\n",
       "        [3, 3, 3],\n",
       "        [3, 3, 3],\n",
       "        [3, 3, 3]],\n",
       "\n",
       "       [[3, 3, 3],\n",
       "        [3, 3, 3],\n",
       "        [3, 3, 3],\n",
       "        ...,\n",
       "        [3, 3, 3],\n",
       "        [3, 3, 3],\n",
       "        [3, 3, 3]],\n",
       "\n",
       "       [[3, 3, 3],\n",
       "        [3, 3, 3],\n",
       "        [3, 3, 3],\n",
       "        ...,\n",
       "        [3, 3, 3],\n",
       "        [3, 3, 3],\n",
       "        [3, 3, 3]],\n",
       "\n",
       "       ...,\n",
       "\n",
       "       [[0, 0, 0],\n",
       "        [0, 0, 0],\n",
       "        [0, 0, 0],\n",
       "        ...,\n",
       "        [0, 0, 0],\n",
       "        [0, 0, 0],\n",
       "        [0, 0, 0]],\n",
       "\n",
       "       [[2, 2, 2],\n",
       "        [0, 0, 0],\n",
       "        [0, 0, 0],\n",
       "        ...,\n",
       "        [0, 0, 0],\n",
       "        [0, 0, 0],\n",
       "        [0, 0, 0]],\n",
       "\n",
       "       [[2, 2, 2],\n",
       "        [2, 2, 2],\n",
       "        [2, 2, 2],\n",
       "        ...,\n",
       "        [0, 0, 0],\n",
       "        [0, 0, 0],\n",
       "        [0, 0, 0]]], dtype=uint8)"
      ]
     },
     "execution_count": 207,
     "metadata": {},
     "output_type": "execute_result"
    }
   ],
   "source": [
    "# RGB image Group D\n",
    "\n",
    "image = Image.open(\"3096.jpg\")\n",
    "kmeans(image,3,4,[[2, 71, 181], [193, 253, 111], [102, 181, 19], [92, 165, 221]])"
   ]
  },
  {
   "cell_type": "code",
   "execution_count": 243,
   "metadata": {},
   "outputs": [],
   "source": [
    "# Question 4\n",
    "\n",
    "x = loadmat('SalinasA_Q4.mat')\n",
    "originalData = x['Q4']\n",
    "\n",
    "y = loadmat('SalinasA_GT4.mat')\n",
    "groundTruth = y['Q4_GT']\n"
   ]
  },
  {
   "cell_type": "code",
   "execution_count": 244,
   "metadata": {},
   "outputs": [
    {
     "data": {
      "text/plain": [
       "(42, 43)"
      ]
     },
     "execution_count": 244,
     "metadata": {},
     "output_type": "execute_result"
    }
   ],
   "source": [
    "groundTruth.shape"
   ]
  },
  {
   "cell_type": "code",
   "execution_count": 245,
   "metadata": {},
   "outputs": [
    {
     "data": {
      "text/plain": [
       "array([[237, 237, 237, ...,   0,   0,   0],\n",
       "       [237, 237, 237, ...,   0, 182, 182],\n",
       "       [237, 237, 237, ..., 182, 182, 182],\n",
       "       ...,\n",
       "       [182, 182, 182, ...,   0,   0,   0],\n",
       "       [182, 182, 182, ...,   0,   0,   0],\n",
       "       [182, 182, 182, ...,   0,   0,   0]], dtype=uint8)"
      ]
     },
     "execution_count": 245,
     "metadata": {},
     "output_type": "execute_result"
    }
   ],
   "source": [
    "groundTruth"
   ]
  },
  {
   "cell_type": "code",
   "execution_count": 246,
   "metadata": {},
   "outputs": [],
   "source": [
    "reshapedData = originalData.reshape(originalData.shape[0]*originalData.shape[1],originalData.shape[2])"
   ]
  },
  {
   "cell_type": "code",
   "execution_count": 258,
   "metadata": {},
   "outputs": [],
   "source": [
    "#Generating random numbers for centroids\n",
    "center1 = np.random.randint(0,5606,204)\n",
    "center2 = np.random.randint(0,5606,204)\n",
    "center3 = np.random.randint(0,5606,204)\n",
    "center4 = np.random.randint(0,5606,204)"
   ]
  },
  {
   "cell_type": "code",
   "execution_count": 248,
   "metadata": {},
   "outputs": [
    {
     "name": "stderr",
     "output_type": "stream",
     "text": [
      "/Users/amrabuelfadl/anaconda3/lib/python3.7/site-packages/ipykernel_launcher.py:40: RuntimeWarning: invalid value encountered in true_divide\n"
     ]
    },
    {
     "data": {
      "text/plain": [
       "array([[[3, 3, 3, ..., 3, 3, 3],\n",
       "        [3, 3, 3, ..., 3, 3, 3],\n",
       "        [3, 3, 3, ..., 3, 3, 3],\n",
       "        ...,\n",
       "        [3, 3, 3, ..., 3, 3, 3],\n",
       "        [3, 3, 3, ..., 3, 3, 3],\n",
       "        [3, 3, 3, ..., 3, 3, 3]],\n",
       "\n",
       "       [[3, 3, 3, ..., 3, 3, 3],\n",
       "        [3, 3, 3, ..., 3, 3, 3],\n",
       "        [3, 3, 3, ..., 3, 3, 3],\n",
       "        ...,\n",
       "        [3, 3, 3, ..., 3, 3, 3],\n",
       "        [3, 3, 3, ..., 3, 3, 3],\n",
       "        [3, 3, 3, ..., 3, 3, 3]],\n",
       "\n",
       "       [[3, 3, 3, ..., 3, 3, 3],\n",
       "        [3, 3, 3, ..., 3, 3, 3],\n",
       "        [3, 3, 3, ..., 3, 3, 3],\n",
       "        ...,\n",
       "        [3, 3, 3, ..., 3, 3, 3],\n",
       "        [3, 3, 3, ..., 3, 3, 3],\n",
       "        [3, 3, 3, ..., 3, 3, 3]],\n",
       "\n",
       "       ...,\n",
       "\n",
       "       [[3, 3, 3, ..., 3, 3, 3],\n",
       "        [3, 3, 3, ..., 3, 3, 3],\n",
       "        [3, 3, 3, ..., 3, 3, 3],\n",
       "        ...,\n",
       "        [3, 3, 3, ..., 3, 3, 3],\n",
       "        [3, 3, 3, ..., 3, 3, 3],\n",
       "        [3, 3, 3, ..., 3, 3, 3]],\n",
       "\n",
       "       [[3, 3, 3, ..., 3, 3, 3],\n",
       "        [3, 3, 3, ..., 3, 3, 3],\n",
       "        [3, 3, 3, ..., 3, 3, 3],\n",
       "        ...,\n",
       "        [3, 3, 3, ..., 3, 3, 3],\n",
       "        [3, 3, 3, ..., 3, 3, 3],\n",
       "        [3, 3, 3, ..., 3, 3, 3]],\n",
       "\n",
       "       [[3, 3, 3, ..., 3, 3, 3],\n",
       "        [3, 3, 3, ..., 3, 3, 3],\n",
       "        [3, 3, 3, ..., 3, 3, 3],\n",
       "        ...,\n",
       "        [3, 3, 3, ..., 3, 3, 3],\n",
       "        [3, 3, 3, ..., 3, 3, 3],\n",
       "        [3, 3, 3, ..., 3, 3, 3]]], dtype=uint16)"
      ]
     },
     "execution_count": 248,
     "metadata": {},
     "output_type": "execute_result"
    }
   ],
   "source": [
    "kmeans(originalData,204,7,[center1, center2, center3, center4])"
   ]
  },
  {
   "cell_type": "code",
   "execution_count": 266,
   "metadata": {},
   "outputs": [
    {
     "name": "stderr",
     "output_type": "stream",
     "text": [
      "/Users/amrabuelfadl/anaconda3/lib/python3.7/site-packages/ipykernel_launcher.py:40: RuntimeWarning: invalid value encountered in true_divide\n"
     ]
    },
    {
     "data": {
      "image/png": "[encoded data removed]",
      "text/plain": [
       "<Figure size 432x288 with 1 Axes>"
      ]
     },
     "metadata": {},
     "output_type": "display_data"
    }
   ],
   "source": [
    "\n",
    "#d_confusion_matrix=confusion_matrix(kmeans(originalData,204,7,[center1, center2, center3, center4]).flatten(), groundTruth.flatten())\n",
    "d_confusion_matrix=confusion_matrix(np.average(kmeans(originalData,204,7,[center1, center2, center3, center4]), axis = 2).flatten(), groundTruth.flatten())\n",
    "\n",
    "#d_confusion_matrix=confusion_matrix(np.average(kmeans(reshapedData,1,7,[20, 460, 901, 1700, 2500, 3500, 4900]), axis = 1), groundTruth.flatten())\n",
    "\n",
    "\n",
    "\n",
    "df_cm = pd.DataFrame(d_confusion_matrix, [0, 1, 2, 3, 4],  [0, 1, 2, 3, 4])\n",
    "\n",
    "sn.set(font_scale=1.4) # for label size\n",
    "\n",
    "ax=sn.heatmap(df_cm,xticklabels=True, yticklabels=True, annot=True, cbar=False,annot_kws={\"size\": 16}) # font size\n",
    "\n",
    "bottom, top = ax.get_ylim()\n",
    "\n",
    "ax.set_ylim(bottom + 0.5, top - 0.5)\n",
    "\n",
    "plt.show()"
   ]
  },
  {
   "cell_type": "code",
   "execution_count": null,
   "metadata": {},
   "outputs": [],
   "source": []
  }
 ],
 "metadata": {
  "kernelspec": {
   "display_name": "Python 3",
   "language": "python",
   "name": "python3"
  },
  "language_info": {
   "codemirror_mode": {
    "name": "ipython",
    "version": 3
   },
   "file_extension": ".py",
   "mimetype": "text/x-python",
   "name": "python",
   "nbconvert_exporter": "python",
   "pygments_lexer": "ipython3",
   "version": "3.7.3"
  }
 },
 "nbformat": 4,
 "nbformat_minor": 2
}
